{
 "cells": [
  {
   "cell_type": "code",
   "execution_count": 11,
   "id": "e402a73e-568e-4524-852d-04b29b1aed90",
   "metadata": {},
   "outputs": [],
   "source": [
    "import pandas as pd\n",
    "import numpy as np"
   ]
  },
  {
   "cell_type": "code",
   "execution_count": 20,
   "id": "324c09f9-f8c6-41b7-9c36-d4409741d805",
   "metadata": {},
   "outputs": [
    {
     "data": {
      "text/html": [
       "<div>\n",
       "<style scoped>\n",
       "    .dataframe tbody tr th:only-of-type {\n",
       "        vertical-align: middle;\n",
       "    }\n",
       "\n",
       "    .dataframe tbody tr th {\n",
       "        vertical-align: top;\n",
       "    }\n",
       "\n",
       "    .dataframe thead th {\n",
       "        text-align: right;\n",
       "    }\n",
       "</style>\n",
       "<table border=\"1\" class=\"dataframe\">\n",
       "  <thead>\n",
       "    <tr style=\"text-align: right;\">\n",
       "      <th></th>\n",
       "      <th></th>\n",
       "      <th></th>\n",
       "      <th></th>\n",
       "      <th></th>\n",
       "      <th></th>\n",
       "      <th></th>\n",
       "      <th></th>\n",
       "      <th></th>\n",
       "      <th>class</th>\n",
       "    </tr>\n",
       "  </thead>\n",
       "  <tbody>\n",
       "    <tr>\n",
       "      <th>0</th>\n",
       "      <td>0.352941</td>\n",
       "      <td>0.670968</td>\n",
       "      <td>0.489796</td>\n",
       "      <td>0.304348</td>\n",
       "      <td>0.169471</td>\n",
       "      <td>0.314928</td>\n",
       "      <td>0.234415</td>\n",
       "      <td>0.483333</td>\n",
       "      <td>yes</td>\n",
       "    </tr>\n",
       "    <tr>\n",
       "      <th>1</th>\n",
       "      <td>0.058824</td>\n",
       "      <td>0.264516</td>\n",
       "      <td>0.428571</td>\n",
       "      <td>0.239130</td>\n",
       "      <td>0.169471</td>\n",
       "      <td>0.171779</td>\n",
       "      <td>0.116567</td>\n",
       "      <td>0.166667</td>\n",
       "      <td>no</td>\n",
       "    </tr>\n",
       "    <tr>\n",
       "      <th>2</th>\n",
       "      <td>0.470588</td>\n",
       "      <td>0.896774</td>\n",
       "      <td>0.408163</td>\n",
       "      <td>0.239130</td>\n",
       "      <td>0.169471</td>\n",
       "      <td>0.104294</td>\n",
       "      <td>0.253629</td>\n",
       "      <td>0.183333</td>\n",
       "      <td>yes</td>\n",
       "    </tr>\n",
       "    <tr>\n",
       "      <th>3</th>\n",
       "      <td>0.058824</td>\n",
       "      <td>0.290323</td>\n",
       "      <td>0.428571</td>\n",
       "      <td>0.173913</td>\n",
       "      <td>0.096154</td>\n",
       "      <td>0.202454</td>\n",
       "      <td>0.038002</td>\n",
       "      <td>0.000000</td>\n",
       "      <td>no</td>\n",
       "    </tr>\n",
       "    <tr>\n",
       "      <th>4</th>\n",
       "      <td>0.000000</td>\n",
       "      <td>0.600000</td>\n",
       "      <td>0.163265</td>\n",
       "      <td>0.304348</td>\n",
       "      <td>0.185096</td>\n",
       "      <td>0.509202</td>\n",
       "      <td>0.943638</td>\n",
       "      <td>0.200000</td>\n",
       "      <td>yes</td>\n",
       "    </tr>\n",
       "  </tbody>\n",
       "</table>\n",
       "</div>"
      ],
      "text/plain": [
       "                                                                         \\\n",
       "0  0.352941  0.670968  0.489796  0.304348  0.169471  0.314928  0.234415   \n",
       "1  0.058824  0.264516  0.428571  0.239130  0.169471  0.171779  0.116567   \n",
       "2  0.470588  0.896774  0.408163  0.239130  0.169471  0.104294  0.253629   \n",
       "3  0.058824  0.290323  0.428571  0.173913  0.096154  0.202454  0.038002   \n",
       "4  0.000000  0.600000  0.163265  0.304348  0.185096  0.509202  0.943638   \n",
       "\n",
       "            class  \n",
       "0  0.483333   yes  \n",
       "1  0.166667    no  \n",
       "2  0.183333   yes  \n",
       "3  0.000000    no  \n",
       "4  0.200000   yes  "
      ]
     },
     "execution_count": 20,
     "metadata": {},
     "output_type": "execute_result"
    }
   ],
   "source": [
    "pima = pd.read_csv(\"pima.csv\", header=None)\n",
    "pima.columns = [\"\",\"\",\"\",\"\",\"\",\"\", \"\",\"\", \"class\"]\n",
    "pima.head()"
   ]
  },
  {
   "cell_type": "code",
   "execution_count": 21,
   "id": "1d42bfd3-a5a1-40e8-b6d1-c612424d011b",
   "metadata": {},
   "outputs": [],
   "source": [
    "pima = pima.sample(frac=1).reset_index(drop=True)"
   ]
  },
  {
   "cell_type": "code",
   "execution_count": 23,
   "id": "968c94ad-4e86-4c68-af59-4efee1d66d2f",
   "metadata": {},
   "outputs": [],
   "source": [
    "classes = pima[\"class\"].unique()\n",
    "class_data = {c: pima[pima[\"class\"] == c] for c in classes}"
   ]
  },
  {
   "cell_type": "code",
   "execution_count": 25,
   "id": "0a55e7a9-34e8-431c-b02d-c3b168299664",
   "metadata": {},
   "outputs": [],
   "source": [
    "class_folds = {c: [] for c in classes}"
   ]
  },
  {
   "cell_type": "code",
   "execution_count": 26,
   "id": "9341349e-7307-41df-90b3-6a73381a9c24",
   "metadata": {},
   "outputs": [],
   "source": [
    "for c in classes:\n",
    "    class_size = len(class_data[c])\n",
    "    fold_size = class_size // 10\n",
    "    extra_samples = class_size % 10\n",
    "    \n",
    "    indicies = np.arange(class_size)\n",
    "    np.random.shuffle(indicies)\n",
    "    \n",
    "    for i in range(10):\n",
    "        fold_indicies = indicies[i*fold_size:(i+1)*fold_size]\n",
    "        if extra_samples > 0:\n",
    "            fold_indicies = np.concatenate([fold_indicies, [indicies[-extra_samples]]])\n",
    "            extra_samples -= 1\n",
    "        \n",
    "        fold_data = class_data[c].iloc[fold_indicies]\n",
    "        class_folds[c].append(fold_data)"
   ]
  },
  {
   "cell_type": "code",
   "execution_count": 29,
   "id": "4d6a61f6-9235-445a-8b75-d0074b33e837",
   "metadata": {},
   "outputs": [],
   "source": [
    "folds = []\n",
    "for i in range(10):\n",
    "    fold = pd.concat([class_folds[c][i] for c in classes])\n",
    "    folds.append(fold)"
   ]
  },
  {
   "cell_type": "code",
   "execution_count": 30,
   "id": "27229ab7-9102-4c6d-8ffb-6e804c0cbcdf",
   "metadata": {},
   "outputs": [],
   "source": [
    "with open(\"pima-fold.csv\", \"w\") as f:\n",
    "    for i, fold in enumerate(folds):\n",
    "        f.write(\"fold{}\\n\".format(i+1))\n",
    "        f.write(\"{}\\n\".format(fold.to_csv(index=False, header=False)))"
   ]
  }
 ],
 "metadata": {
  "kernelspec": {
   "display_name": "Python 3",
   "language": "python",
   "name": "python3"
  },
  "language_info": {
   "codemirror_mode": {
    "name": "ipython",
    "version": 3
   },
   "file_extension": ".py",
   "mimetype": "text/x-python",
   "name": "python",
   "nbconvert_exporter": "python",
   "pygments_lexer": "ipython3",
   "version": "3.8.8"
  }
 },
 "nbformat": 4,
 "nbformat_minor": 5
}
