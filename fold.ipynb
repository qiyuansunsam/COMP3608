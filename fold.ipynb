{
 "cells": [
  {
   "cell_type": "code",
   "execution_count": 11,
   "id": "e402a73e-568e-4524-852d-04b29b1aed90",
   "metadata": {},
   "outputs": [],
   "source": [
    "import pandas as pd\n",
    "import numpy as np"
   ]
  },
  {
   "cell_type": "code",
   "execution_count": 118,
   "id": "76e7ce6a-91e8-4077-af14-914a4a90c14f",
   "metadata": {},
   "outputs": [],
   "source": [
    "def stratified_data(data):\n",
    "    data = data.sample(frac=1).reset_index(drop=True)\n",
    "    classes = data[\"class\"].unique()\n",
    "    class_data = {c: data[data[\"class\"] == c] for c in classes}\n",
    "    class_folds = {c: [] for c in classes}\n",
    "    \n",
    "    for c in classes:\n",
    "        class_size = len(class_data[c])\n",
    "        fold_size = class_size // 10\n",
    "        extra_samples = class_size % 10\n",
    "    \n",
    "        indicies = np.arange(class_size)\n",
    "        np.random.shuffle(indicies)\n",
    "    \n",
    "        for i in range(10):\n",
    "            fold_indicies = indicies[i*fold_size:(i+1)*fold_size]\n",
    "            if extra_samples > 0:\n",
    "                fold_indicies = np.concatenate([fold_indicies, [indicies[-extra_samples]]])\n",
    "                extra_samples -= 1\n",
    "\n",
    "            fold_data = class_data[c].iloc[fold_indicies]\n",
    "            class_folds[c].append(fold_data)\n",
    "    \n",
    "    folds = []\n",
    "    for i in range(10):\n",
    "        fold = pd.concat([class_folds[c][i] for c in classes])\n",
    "        folds.append(fold)\n",
    "    \n",
    "    return folds"
   ]
  },
  {
   "cell_type": "code",
   "execution_count": 114,
   "id": "5fd75af7-b635-45ee-89b5-9cc34e675408",
   "metadata": {},
   "outputs": [],
   "source": [
    "pima = pd.read_csv(\"pima.csv\")\n",
    "pima_folds = stratified_data(pima)"
   ]
  },
  {
   "cell_type": "code",
   "execution_count": 115,
   "id": "27229ab7-9102-4c6d-8ffb-6e804c0cbcdf",
   "metadata": {},
   "outputs": [],
   "source": [
    "with open(\"pima-fold.csv\", \"w\") as f:\n",
    "    for i, fold in enumerate(pima_folds):\n",
    "        f.write(\"fold{}\\n\".format(i+1))\n",
    "        f.write(\"{}\\n\".format(fold.to_csv(index=False, header=False)))"
   ]
  },
  {
   "cell_type": "code",
   "execution_count": 122,
   "id": "3a14e5b8-1368-4898-b978-d5c1a6a17c5f",
   "metadata": {},
   "outputs": [],
   "source": [
    "for i in range(10):\n",
    "    # Get the training and validation data for this fold\n",
    "    val_data = pima_folds[i]\n",
    "    label = val_data['class']\n",
    "    val_data = val_data.drop(columns=['class'])\n",
    "    train_data = pd.concat([fold for j, fold in enumerate(pima_folds) if j != i])\n",
    "    \n",
    "    # Write the train and test data to separate text files\n",
    "    train_file = f'numerical_cv/train_fold_{i+1}.txt'\n",
    "    test_file = f'numerical_cv/test_fold_{i+1}.txt'\n",
    "    label_file = f'numerical_cv/label_fold_{i+1}.txt'\n",
    "    train_data.to_csv(train_file, index=False, header=False)\n",
    "    val_data.to_csv(test_file, index=False, header=False)\n",
    "    label.to_csv(label_file, index=False, header=False)"
   ]
  },
  {
   "cell_type": "code",
   "execution_count": 121,
   "id": "79596fa8-1720-4556-9fb9-13364eaccf20",
   "metadata": {},
   "outputs": [],
   "source": [
    "pima_cfs = pd.read_csv(\"pima-CFS.csv\")\n",
    "pima_cfs_folds = stratified_data(pima_cfs)\n",
    "\n",
    "with open(\"pima-cfs-fold.csv\", \"w\") as f:\n",
    "    for i, fold in enumerate(pima_cfs_folds):\n",
    "        f.write(\"fold{}\\n\".format(i+1))\n",
    "        f.write(\"{}\\n\".format(fold.to_csv(index=False, header=False)))"
   ]
  },
  {
   "cell_type": "code",
   "execution_count": 123,
   "id": "7266cda5-ca93-4870-a23c-a864c11b5a3c",
   "metadata": {},
   "outputs": [],
   "source": [
    "for i in range(10):\n",
    "    # Get the training and validation data for this fold\n",
    "    val_data = pima_cfs_folds[i]\n",
    "    label = val_data['class']\n",
    "    val_data = val_data.drop(columns=['class'])\n",
    "    train_data = pd.concat([fold for j, fold in enumerate(pima_cfs_folds) if j != i])\n",
    "    \n",
    "    # Write the train and test data to separate text files\n",
    "    train_file = f'numerical_cv_cfs/train_fold_{i+1}.txt'\n",
    "    test_file = f'numerical_cv_cfs/test_fold_{i+1}.txt'\n",
    "    label_file = f'numerical_cv_cfs/label_fold_{i+1}.txt'\n",
    "    train_data.to_csv(train_file, index=False, header=False)\n",
    "    val_data.to_csv(test_file, index=False, header=False)\n",
    "    label.to_csv(label_file, index=False, header=False)"
   ]
  },
  {
   "cell_type": "code",
   "execution_count": 124,
   "id": "2004baa8-da95-4c3a-acae-a5525f2866b6",
   "metadata": {},
   "outputs": [],
   "source": [
    "pima_discrete = pd.read_csv(\"pima-indians-diabetes-discrete.csv\")\n",
    "pima_discrete_folds = stratified_data(pima_discrete)\n",
    "\n",
    "with open(\"pima-discrete-fold.csv\", \"w\") as f:\n",
    "    for i, fold in enumerate(pima_discrete_folds):\n",
    "        f.write(\"fold{}\\n\".format(i+1))\n",
    "        f.write(\"{}\\n\".format(fold.to_csv(index=False, header=False)))"
   ]
  },
  {
   "cell_type": "code",
   "execution_count": 126,
   "id": "a1103fed-3cfb-4f8a-9a43-0025cd80069f",
   "metadata": {},
   "outputs": [],
   "source": [
    "for i in range(10):\n",
    "    # Get the training and validation data for this fold\n",
    "    val_data = pima_discrete_folds[i]\n",
    "    label = val_data['class']\n",
    "    val_data = val_data.drop(columns=['class'])\n",
    "    train_data = pd.concat([fold for j, fold in enumerate(pima_discrete_folds) if j != i])\n",
    "    \n",
    "    # Write the train and test data to separate text files\n",
    "    train_file = f'nominal_cv/train_fold_{i+1}.txt'\n",
    "    test_file = f'nominal_cv/test_fold_{i+1}.txt'\n",
    "    label_file = f'nominal_cv/label_fold_{i+1}.txt'\n",
    "    train_data.to_csv(train_file, index=False, header=False)\n",
    "    val_data.to_csv(test_file, index=False, header=False)\n",
    "    label.to_csv(label_file, index=False, header=False)"
   ]
  },
  {
   "cell_type": "code",
   "execution_count": 127,
   "id": "0f40cf8c-cc45-4cd9-abc7-215640b73b21",
   "metadata": {},
   "outputs": [],
   "source": [
    "pima_discrete_cfs = pd.read_csv(\"pima-discretised-CFS.csv\")\n",
    "pima_discrete_cfs_folds = stratified_data(pima_discrete_cfs)\n",
    "\n",
    "with open(\"pima-discrete-fold-cfs.csv\", \"w\") as f:\n",
    "    for i, fold in enumerate(pima_discrete_cfs_folds):\n",
    "        f.write(\"fold{}\\n\".format(i+1))\n",
    "        f.write(\"{}\\n\".format(fold.to_csv(index=False, header=False)))"
   ]
  },
  {
   "cell_type": "code",
   "execution_count": 128,
   "id": "735dfd7d-2249-4d59-ba35-30ef0ac8075b",
   "metadata": {},
   "outputs": [],
   "source": [
    "for i in range(10):\n",
    "    # Get the training and validation data for this fold\n",
    "    val_data = pima_discrete_cfs_folds[i]\n",
    "    label = val_data['class']\n",
    "    val_data = val_data.drop(columns=['class'])\n",
    "    train_data = pd.concat([fold for j, fold in enumerate(pima_discrete_cfs_folds) if j != i])\n",
    "    \n",
    "    # Write the train and test data to separate text files\n",
    "    train_file = f'nominal_cv_cfs/train_fold_{i+1}.txt'\n",
    "    test_file = f'nominal_cv_cfs/test_fold_{i+1}.txt'\n",
    "    label_file = f'nominal_cv_cfs/label_fold_{i+1}.txt'\n",
    "    train_data.to_csv(train_file, index=False, header=False)\n",
    "    val_data.to_csv(test_file, index=False, header=False)\n",
    "    label.to_csv(label_file, index=False, header=False)"
   ]
  }
 ],
 "metadata": {
  "kernelspec": {
   "display_name": "Python 3",
   "language": "python",
   "name": "python3"
  },
  "language_info": {
   "codemirror_mode": {
    "name": "ipython",
    "version": 3
   },
   "file_extension": ".py",
   "mimetype": "text/x-python",
   "name": "python",
   "nbconvert_exporter": "python",
   "pygments_lexer": "ipython3",
   "version": "3.8.8"
  }
 },
 "nbformat": 4,
 "nbformat_minor": 5
}
