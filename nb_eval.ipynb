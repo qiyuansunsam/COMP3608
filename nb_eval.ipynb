{
 "cells": [
  {
   "cell_type": "code",
   "execution_count": 19,
   "id": "24dbacb1-10f3-4346-8ff0-6d48528e5992",
   "metadata": {},
   "outputs": [],
   "source": [
    "import numpy as np"
   ]
  },
  {
   "cell_type": "code",
   "execution_count": 25,
   "id": "85bde532-b38f-443c-a857-2a42ecc4b845",
   "metadata": {},
   "outputs": [],
   "source": [
    "import math\n",
    "\n",
    "def mean(nums):\n",
    "    return sum(nums) / len(nums)\n",
    "\n",
    "def stdev(nums):\n",
    "    avg = mean(nums)\n",
    "    var = sum([(x - avg) ** 2 for x in nums]) / len(nums)\n",
    "    return math.sqrt(var)\n",
    "\n",
    "def summarize(data):\n",
    "    separated = {\n",
    "        'yes': [],\n",
    "        'no': []\n",
    "    }\n",
    "    for feature, label in data:\n",
    "        separated[label].append(feature)\n",
    "    summaries = {}\n",
    "    summaries['yes'] = [(mean(feature), stdev(feature)) for feature in zip(*separated['yes'])]\n",
    "    prob_yes = len(separated['yes']) / len(data)\n",
    "    summaries['no'] = [(mean(feature), stdev(feature)) for feature in zip(*separated['no'])]\n",
    "    prob_no = len(separated['no']) / len(data)\n",
    "    return summaries, prob_yes, prob_no\n",
    "\n",
    "\n",
    "# Change number in f_x when doing CFS (From 8 to 5, or vice versa)\n",
    "def f_x(summaries, input, prob_yes, prob_no):\n",
    "    probabilities = {}\n",
    "    probabilities['yes'] = prob_yes\n",
    "    for i in range(5):\n",
    "        mean, stdev = summaries['yes'][i]\n",
    "        probabilities['yes'] *= math.exp(-(math.pow(input[i] - mean, 2) / (2 * math.pow(stdev, 2)))) / (math.sqrt(2 * math.pi) * stdev)\n",
    "    probabilities['no'] = prob_no\n",
    "    for i in range(5):\n",
    "        mean, stdev = summaries['no'][i]\n",
    "        probabilities['no'] *= math.exp(-(math.pow(input[i] - mean, 2) / (2 * math.pow(stdev, 2)))) / (math.sqrt(2 * math.pi) * stdev)\n",
    "    return probabilities\n",
    "\n",
    "def predict(summaries, input, prob_yes, prob_no):\n",
    "    probabilities = f_x(summaries, input, prob_yes, prob_no)\n",
    "    return max(probabilities, key=probabilities.get)\n",
    "\n",
    "def classify_nb(training_filename, testing_filename):\n",
    "    with open(training_filename, 'r') as file:\n",
    "      data_str = file.readlines()\n",
    "    training_data = [line.strip().split(\",\") for line in data_str]\n",
    "    training_data = [([float(x) for x in row[:-1]], row[-1]) for row in training_data]\n",
    "\n",
    "    with open(testing_filename, 'r') as file:\n",
    "      data_str = file.readlines()\n",
    "    testing_data = [line.strip().split(\",\") for line in data_str]\n",
    "    testing_data = [[float(x) for x in row] for row in testing_data]\n",
    "    \n",
    "    summaries, prob_yes, prob_no = summarize(training_data)\n",
    "    predictions = []\n",
    "    \n",
    "    for input in testing_data:\n",
    "        result = predict(summaries, input, prob_yes, prob_no)\n",
    "        predictions.append(result)\n",
    "    \n",
    "    return predictions"
   ]
  },
  {
   "cell_type": "code",
   "execution_count": 17,
   "id": "445934b4-e93a-448e-a5d8-bde538a1540f",
   "metadata": {},
   "outputs": [],
   "source": [
    "def calculate_accuracy(labels_true, labels_pred):\n",
    "    n_correct = sum(1 for true, pred in zip(labels_true, labels_pred) if true == pred)\n",
    "    n_total = len(labels_true)\n",
    "    accuracy = n_correct / n_total\n",
    "    return accuracy"
   ]
  },
  {
   "cell_type": "code",
   "execution_count": 23,
   "id": "8d3c04cf-d85d-4005-9d07-5ca074941dea",
   "metadata": {
    "tags": []
   },
   "outputs": [
    {
     "data": {
      "text/plain": [
       "0.7488209159261792"
      ]
     },
     "execution_count": 23,
     "metadata": {},
     "output_type": "execute_result"
    }
   ],
   "source": [
    "results = np.zeros(10)\n",
    "\n",
    "for i in range(10):\n",
    "    training_filename = \"numerical_cv/train_fold_{}.txt\".format(i+1)\n",
    "    test_filename = \"numerical_cv/test_fold_{}.txt\".format(i+1)\n",
    "    label_filename = \"numerical_cv/label_fold_{}.txt\".format(i+1)\n",
    "    \n",
    "    pred = classify_nb(training_filename, test_filename)    \n",
    "    \n",
    "    true_labels = []\n",
    "    with open(label_filename, \"r\") as file:\n",
    "        labels = file.readlines()\n",
    "        for label in labels:\n",
    "            true_labels.append(label.strip(\"\\n\"))\n",
    "\n",
    "    results[i] = calculate_accuracy(true_labels, pred)\n",
    "\n",
    "np.mean(results)"
   ]
  },
  {
   "cell_type": "code",
   "execution_count": 26,
   "id": "284b6e13-f278-4360-849a-deada0427e58",
   "metadata": {},
   "outputs": [
    {
     "data": {
      "text/plain": [
       "0.7668831168831169"
      ]
     },
     "execution_count": 26,
     "metadata": {},
     "output_type": "execute_result"
    }
   ],
   "source": [
    "results = np.zeros(10)\n",
    "\n",
    "for i in range(10):\n",
    "    training_filename = \"numerical_cv_cfs/train_fold_{}.txt\".format(i+1)\n",
    "    test_filename = \"numerical_cv_cfs/test_fold_{}.txt\".format(i+1)\n",
    "    label_filename = \"numerical_cv_cfs/label_fold_{}.txt\".format(i+1)\n",
    "    \n",
    "    pred = classify_nb(training_filename, test_filename)    \n",
    "    \n",
    "    true_labels = []\n",
    "    with open(label_filename, \"r\") as file:\n",
    "        labels = file.readlines()\n",
    "        for label in labels:\n",
    "            true_labels.append(label.strip(\"\\n\"))\n",
    "\n",
    "    results[i] = calculate_accuracy(true_labels, pred)\n",
    "\n",
    "np.mean(results)"
   ]
  }
 ],
 "metadata": {
  "kernelspec": {
   "display_name": "Python 3",
   "language": "python",
   "name": "python3"
  },
  "language_info": {
   "codemirror_mode": {
    "name": "ipython",
    "version": 3
   },
   "file_extension": ".py",
   "mimetype": "text/x-python",
   "name": "python",
   "nbconvert_exporter": "python",
   "pygments_lexer": "ipython3",
   "version": "3.8.8"
  }
 },
 "nbformat": 4,
 "nbformat_minor": 5
}
