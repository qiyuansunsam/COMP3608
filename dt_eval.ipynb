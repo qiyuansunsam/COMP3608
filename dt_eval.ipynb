{
 "cells": [
  {
   "cell_type": "code",
   "execution_count": 1,
   "id": "8f7cfe1a-c92e-4f8a-a583-d9fb00726793",
   "metadata": {},
   "outputs": [],
   "source": [
    "def calculate_accuracy(labels_true, labels_pred):\n",
    "    n_correct = sum(1 for true, pred in zip(labels_true, labels_pred) if true == pred)\n",
    "    n_total = len(labels_true)\n",
    "    accuracy = n_correct / n_total\n",
    "    return accuracy"
   ]
  },
  {
   "cell_type": "code",
   "execution_count": 2,
   "id": "4a3d2a38-4fb4-48af-9636-62d6ed8d8e40",
   "metadata": {},
   "outputs": [],
   "source": [
    "import math\n",
    "\n",
    "class TreeNode:\n",
    "    #clas is for class\n",
    "    def __init__(self, data, clas):\n",
    "        self.data = data\n",
    "        self.clas = clas\n",
    "        self.children = {}\n",
    "        self.attribute = None\n",
    "        self.build()\n",
    "\n",
    "    def entropy(self, clas):\n",
    "        unique_labels = set(clas)\n",
    "        entropy = 0\n",
    "        total = len(clas)\n",
    "        for label in unique_labels:\n",
    "            count = clas.count(label)\n",
    "            prob = count / total\n",
    "            entropy += -prob * math.log2(prob)\n",
    "        return entropy\n",
    "\n",
    "    def info_gain(self, data, clas, attribute):\n",
    "        attribute_values = [row[attribute] for row in data]\n",
    "        unique_attribute = set(attribute_values)\n",
    "        t_one = self.entropy(clas)\n",
    "        t_two = 0\n",
    "        for val in unique_attribute:\n",
    "            subset = [clas[i] for i in range(len(clas)) if data[i][attribute] == val]\n",
    "            t_two += (len(subset) / len(clas)) * self.entropy(subset)\n",
    "        gain = t_one - t_two\n",
    "        return gain\n",
    "\n",
    "    def find_best_split(self, data, clas):\n",
    "        best_gain = 0\n",
    "        best_attribute = 0\n",
    "        for attribute in range(len(data[0])):\n",
    "            gain = self.info_gain(data, clas, attribute)\n",
    "            if gain >= best_gain:\n",
    "                best_gain = gain\n",
    "                best_attribute = attribute\n",
    "        return best_attribute\n",
    "\n",
    "    def build(self):\n",
    "        #terminate case a\n",
    "        if len(set(self.clas)) == 1:\n",
    "            return\n",
    "        self.attribute = self.find_best_split(self.data, self.clas)\n",
    "        unique_attribute = set([row[self.attribute] for row in self.data])\n",
    "        #terminate case b\n",
    "        if len(unique_attribute) == 1:\n",
    "            yes_count = self.clas.count('yes')\n",
    "            no_count = self.clas.count('no')\n",
    "            if yes_count >= no_count:\n",
    "                self.clas = ['yes']\n",
    "            else:\n",
    "                self.clas = ['no']\n",
    "            return\n",
    "        for val in unique_attribute:\n",
    "            subset_data = [row for row in self.data if row[self.attribute] == val]\n",
    "            subset_clas = [self.clas[i] for i, row in enumerate(self.data) if row[self.attribute] == val]\n",
    "\n",
    "            self.children[val] = TreeNode(subset_data, subset_clas)\n",
    "\n",
    "    def predict(self, instance):\n",
    "        if not self.children:\n",
    "            yes_count = self.clas.count('yes')\n",
    "            no_count = self.clas.count('no')\n",
    "            if yes_count >= no_count:\n",
    "                return 'yes'\n",
    "            else:\n",
    "                return 'no'\n",
    "\n",
    "        attribute = instance[self.attribute]\n",
    "        if attribute in self.children:\n",
    "            return self.children[attribute].predict(instance)\n",
    "        else:\n",
    "            #terminate case c, subset empty, attribute not in children\n",
    "            yes_count = self.clas.count('yes')\n",
    "            no_count = self.clas.count('no')\n",
    "            if yes_count >= no_count:\n",
    "                return 'yes'\n",
    "            else:\n",
    "                return 'no'\n",
    "\n",
    "    \n",
    "def classify_dt(training_filename, testing_filename):\n",
    "    with open(training_filename, 'r') as file:\n",
    "        data_str = file.readlines()\n",
    "    x_train = []\n",
    "    y_train = []\n",
    "    for row in data_str:\n",
    "        train_row = row.strip().split(',')\n",
    "        x_train.append(train_row[:-1])\n",
    "        y_train.append(train_row[-1])\n",
    "    with open(testing_filename, 'r') as file:\n",
    "      data_str = file.readlines()\n",
    "    test_data = []\n",
    "    for row in data_str:\n",
    "        test_data.append(row.strip().split(','))\n",
    "    root = TreeNode(x_train, y_train)\n",
    "    return [root.predict(test) for test in test_data]"
   ]
  },
  {
   "cell_type": "code",
   "execution_count": 6,
   "id": "de340ae2-5ffd-4e6e-9356-b22bb125fe40",
   "metadata": {},
   "outputs": [
    {
     "data": {
      "text/plain": [
       "0.7316985645933014"
      ]
     },
     "execution_count": 6,
     "metadata": {},
     "output_type": "execute_result"
    }
   ],
   "source": [
    "import numpy as np\n",
    "results = np.zeros(10)\n",
    "\n",
    "for i in range(10):\n",
    "    training_filename = \"nominal_cv/train_fold_{}.txt\".format(i+1)\n",
    "    test_filename = \"nominal_cv/test_fold_{}.txt\".format(i+1)\n",
    "    label_filename = \"nominal_cv/label_fold_{}.txt\".format(i+1)\n",
    "    \n",
    "    pred = classify_dt(training_filename, test_filename)    \n",
    "    \n",
    "    true_labels = []\n",
    "    with open(label_filename, \"r\") as file:\n",
    "        labels = file.readlines()\n",
    "        for label in labels:\n",
    "            true_labels.append(label.strip(\"\\n\"))\n",
    "\n",
    "    results[i] = calculate_accuracy(true_labels, pred)\n",
    "\n",
    "np.mean(results)"
   ]
  },
  {
   "cell_type": "code",
   "execution_count": 7,
   "id": "7184fda5-d1b3-4144-b88a-dd77dfccf562",
   "metadata": {},
   "outputs": [
    {
     "data": {
      "text/plain": [
       "0.7863807245386193"
      ]
     },
     "execution_count": 7,
     "metadata": {},
     "output_type": "execute_result"
    }
   ],
   "source": [
    "results = np.zeros(10)\n",
    "\n",
    "for i in range(10):\n",
    "    training_filename = \"nominal_cv_cfs/train_fold_{}.txt\".format(i+1)\n",
    "    test_filename = \"nominal_cv_cfs/test_fold_{}.txt\".format(i+1)\n",
    "    label_filename = \"nominal_cv_cfs/label_fold_{}.txt\".format(i+1)\n",
    "    \n",
    "    pred = classify_dt(training_filename, test_filename)    \n",
    "    \n",
    "    true_labels = []\n",
    "    with open(label_filename, \"r\") as file:\n",
    "        labels = file.readlines()\n",
    "        for label in labels:\n",
    "            true_labels.append(label.strip(\"\\n\"))\n",
    "\n",
    "    results[i] = calculate_accuracy(true_labels, pred)\n",
    "\n",
    "np.mean(results)"
   ]
  }
 ],
 "metadata": {
  "kernelspec": {
   "display_name": "Python 3",
   "language": "python",
   "name": "python3"
  },
  "language_info": {
   "codemirror_mode": {
    "name": "ipython",
    "version": 3
   },
   "file_extension": ".py",
   "mimetype": "text/x-python",
   "name": "python",
   "nbconvert_exporter": "python",
   "pygments_lexer": "ipython3",
   "version": "3.8.8"
  }
 },
 "nbformat": 4,
 "nbformat_minor": 5
}
